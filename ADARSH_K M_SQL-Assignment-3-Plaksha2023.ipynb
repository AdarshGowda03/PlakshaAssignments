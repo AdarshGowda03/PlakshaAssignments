{
 "cells": [
  {
   "cell_type": "markdown",
   "id": "b3d08535",
   "metadata": {},
   "source": [
    "<img src=\"https://raw.githubusercontent.com/afo/data-x-plaksha/master/imgsource/dx_logo.png\" align=\"left\"></img><br><br><br><br>"
   ]
  },
  {
   "cell_type": "markdown",
   "id": "4c408082",
   "metadata": {},
   "source": [
    "## Plaksha SQL assignment"
   ]
  },
  {
   "cell_type": "markdown",
   "id": "7f7d4113-c3a9-47b2-b7df-b844d49abd22",
   "metadata": {},
   "source": [
    "---\n",
    "\n",
    "## Submission details:\n",
    "\n",
    "Please submit this as a Jupyter Notebook and a PDF of your results (both should show output). Also push your solutions to Github.\n",
    "\n",
    "For the submision create a local database with `sqlite3` or `sqlalchemy` in a Jupyter notebook and make the queries either with a cursor object (and then print the results) or by using pandas `pd.read_sql_query()`."
   ]
  },
  {
   "cell_type": "markdown",
   "id": "0c551f03-7eff-43e2-89a7-a53b54098223",
   "metadata": {},
   "source": [
    "___\n",
    "\n",
    "When completing this homework you can experiment with SQL commands by utilizing this great online editor:\n",
    "\n",
    "https://www.w3schools.com/sql/trysql.asp?filename=trysql_select_all\n",
    "\n",
    "There are already some tables in the online Database, namely:\n",
    "\n",
    "`Categories, Employees, OrderDetails, Orders, Products, Shippers, and Suppliers.`\n",
    "\n",
    "If you want you can drop them by running  `DROP TABLE [table-name];` (or just keep them)."
   ]
  },
  {
   "cell_type": "markdown",
   "id": "dccc820f-21b0-4b2c-9ca8-9cb9eab76023",
   "metadata": {},
   "source": [
    "___\n",
    "\n",
    "## Exercises:\n",
    "\n",
    "First create a table called students. It has the columns: 'student_id', 'name', 'major', 'gpa' and 'enrollment_date' We will use a new form of `CREATE TABLE` expression to produce this table.\n",
    "\n",
    "Note that you can improve this and are welcome to do so -- e.g. by specifying for example a PRIMARY KEY and a FOREIGN KEY in Q2 :)\n",
    "\n",
    "    CREATE TABLE students AS\n",
    "        SELECT 1 AS student_id, \"John\" AS name, \"Computer Science\" AS major, 3.5 AS gpa, \"01-01-2022\" AS enrollment_date UNION\n",
    "        SELECT 2, \"Jane\", \"Physics\", 3.8, \"01-02-2022\" UNION\n",
    "        SELECT 3, \"Bob\", \"Engineering\", 3.0, \"01-03-2022\" UNION\n",
    "        SELECT 4, \"Samantha\", \"Physics\", 3.9, \"01-04-2022\" UNION\n",
    "        SELECT 5, \"James\", \"Engineering\", 3.7, \"01-05-2022\" UNION\n",
    "        SELECT 6, \"Emily\", \"Computer Science\", 3.6, \"01-06-2022\" UNION\n",
    "        SELECT 7, \"Michael\", \"Computer Science\", 3.2, \"01-07-2022\" UNION\n",
    "        SELECT 8, \"Jessica\", \"Engineering\", 3.8, \"01-08-2022\" UNION\n",
    "        SELECT 9, \"Jacob\", \"Physics\", 3.4, \"01-09-2022\" UNION\n",
    "        SELECT 10, \"Ashley\", \"Physics\", 3.9, \"01-10-2022\";\n",
    "\n",
    "\n",
    "## Q1 Simple SELECTS (on the students table)\n",
    "1. SELECT all records in the table.\n",
    "2. SELECT students whose major is \"Computer Science\".\n",
    "3. SELECT all unique majors (use SELECT DISTINCT) and order them by name, descending order (i.e. Physics first).\n",
    "4. SELECT all students that have an 'e' in their name and order them by gpa in ascending order.\n",
    "\n",
    "\n",
    "## Q2 Joins\n",
    "\n",
    "Create a new table called courses, which indicates the courses taken by the students. \n",
    "\n",
    "Create the table by running:\n",
    "\t\n",
    "    CREATE TABLE courses AS\n",
    "        SELECT 1 AS course_id, \"Python programming\" AS course_name, 1 AS student_id, \"A\" AS grade UNION\n",
    "        SELECT 2, \"Data Structures\", 2, \"B\" UNION\n",
    "        SELECT 3, \"Database Systems\", 3, \"B\" UNION\n",
    "        SELECT 1, \"Python programming\", 4, \"A\" UNION\n",
    "        SELECT 4, \"Quantum Mechanics\", 5, \"C\" UNION\n",
    "        SELECT 1, \"Python programming\", 6, \"F\" UNION\n",
    "        SELECT 2, \"Data Structures\", 7, \"C\" UNION\n",
    "        SELECT 3, \"Database Systems\", 8, \"A\" UNION\n",
    "        SELECT 4, \"Quantum Mechanics\", 9, \"A\" UNION\n",
    "        SELECT 2, \"Data Structures\", 10, \"F\";\n",
    "\n",
    "1. COUNT the number of unique courses.\n",
    "2. JOIN the tables students and courses and COUNT the number of students with the major Computer Science taking the course Python programming.\n",
    "3. JOIN the tables students and courses and select the students who have grades higher than \"C\", only show their name, major, gpa, course_name and grade.\n",
    "\n",
    "\n",
    "## Q3 Aggregate functions, numerical logic and grouping\n",
    "\n",
    "1. Find the average gpa of all students.\n",
    "2. SELECT the student with the maximum gpa, display only their student_id, major and gpa\n",
    "3. SELECT the student with the minimum gpa, display only their student_id, major and gpa\n",
    "4. SELECT the students with a gpa greater than 3.6 in the majors of \"Physics\" and \"Engineering\", display only their student_id, major and gpa\n",
    "5. Group the students by their major and retrieve the average grade of each major.\n",
    "6. SELECT the top 2 students with the highest GPA in each major and order the results by major in ascending order, then by GPA in descending order"
   ]
  },
  {
   "cell_type": "markdown",
   "id": "3ab84519",
   "metadata": {},
   "source": [
    "# Your solution"
   ]
  },
  {
   "cell_type": "code",
   "execution_count": 6,
   "id": "c7cff114",
   "metadata": {},
   "outputs": [],
   "source": [
    "import sqlite3\n",
    "import pandas as pd"
   ]
  },
  {
   "cell_type": "code",
   "execution_count": 7,
   "id": "69d59c81",
   "metadata": {},
   "outputs": [],
   "source": [
    "connection = sqlite3.connect('sqlassignment1.db')\n",
    "cursor = connection.cursor()"
   ]
  },
  {
   "cell_type": "markdown",
   "id": "8916252f",
   "metadata": {},
   "source": [
    "## Q1"
   ]
  },
  {
   "cell_type": "code",
   "execution_count": 8,
   "id": "1a93b505",
   "metadata": {},
   "outputs": [
    {
     "data": {
      "text/plain": [
       "<sqlite3.Cursor at 0x135706b1110>"
      ]
     },
     "execution_count": 8,
     "metadata": {},
     "output_type": "execute_result"
    }
   ],
   "source": [
    "command = \"\"\"CREATE TABLE students AS\n",
    "    SELECT 1 AS student_id, \"John\" AS name, \"Computer Science\" AS major, 3.5 AS gpa, \"01-01-2022\" AS enrollment_date UNION\n",
    "    SELECT 2, \"Jane\", \"Physics\", 3.8, \"01-02-2022\" UNION\n",
    "    SELECT 3, \"Bob\", \"Engineering\", 3.0, \"01-03-2022\" UNION\n",
    "    SELECT 4, \"Samantha\", \"Physics\", 3.9, \"01-04-2022\" UNION\n",
    "    SELECT 5, \"James\", \"Engineering\", 3.7, \"01-05-2022\" UNION\n",
    "    SELECT 6, \"Emily\", \"Computer Science\", 3.6, \"01-06-2022\" UNION\n",
    "    SELECT 7, \"Michael\", \"Computer Science\", 3.2, \"01-07-2022\" UNION\n",
    "    SELECT 8, \"Jessica\", \"Engineering\", 3.8, \"01-08-2022\" UNION\n",
    "    SELECT 9, \"Jacob\", \"Physics\", 3.4, \"01-09-2022\" UNION\n",
    "    SELECT 10, \"Ashley\", \"Physics\", 3.9, \"01-10-2022\";\n",
    "    \"\"\"\n",
    "cursor.execute(command)\n"
   ]
  },
  {
   "cell_type": "markdown",
   "id": "b837aee6",
   "metadata": {},
   "source": [
    "### 1."
   ]
  },
  {
   "cell_type": "code",
   "execution_count": 9,
   "id": "7af93d48",
   "metadata": {},
   "outputs": [
    {
     "data": {
      "text/html": [
       "<div>\n",
       "<style scoped>\n",
       "    .dataframe tbody tr th:only-of-type {\n",
       "        vertical-align: middle;\n",
       "    }\n",
       "\n",
       "    .dataframe tbody tr th {\n",
       "        vertical-align: top;\n",
       "    }\n",
       "\n",
       "    .dataframe thead th {\n",
       "        text-align: right;\n",
       "    }\n",
       "</style>\n",
       "<table border=\"1\" class=\"dataframe\">\n",
       "  <thead>\n",
       "    <tr style=\"text-align: right;\">\n",
       "      <th></th>\n",
       "      <th>student_id</th>\n",
       "      <th>name</th>\n",
       "      <th>major</th>\n",
       "      <th>gpa</th>\n",
       "      <th>enrollment_date</th>\n",
       "    </tr>\n",
       "  </thead>\n",
       "  <tbody>\n",
       "    <tr>\n",
       "      <th>0</th>\n",
       "      <td>1</td>\n",
       "      <td>John</td>\n",
       "      <td>Computer Science</td>\n",
       "      <td>3.5</td>\n",
       "      <td>01-01-2022</td>\n",
       "    </tr>\n",
       "    <tr>\n",
       "      <th>1</th>\n",
       "      <td>2</td>\n",
       "      <td>Jane</td>\n",
       "      <td>Physics</td>\n",
       "      <td>3.8</td>\n",
       "      <td>01-02-2022</td>\n",
       "    </tr>\n",
       "    <tr>\n",
       "      <th>2</th>\n",
       "      <td>3</td>\n",
       "      <td>Bob</td>\n",
       "      <td>Engineering</td>\n",
       "      <td>3.0</td>\n",
       "      <td>01-03-2022</td>\n",
       "    </tr>\n",
       "    <tr>\n",
       "      <th>3</th>\n",
       "      <td>4</td>\n",
       "      <td>Samantha</td>\n",
       "      <td>Physics</td>\n",
       "      <td>3.9</td>\n",
       "      <td>01-04-2022</td>\n",
       "    </tr>\n",
       "    <tr>\n",
       "      <th>4</th>\n",
       "      <td>5</td>\n",
       "      <td>James</td>\n",
       "      <td>Engineering</td>\n",
       "      <td>3.7</td>\n",
       "      <td>01-05-2022</td>\n",
       "    </tr>\n",
       "    <tr>\n",
       "      <th>5</th>\n",
       "      <td>6</td>\n",
       "      <td>Emily</td>\n",
       "      <td>Computer Science</td>\n",
       "      <td>3.6</td>\n",
       "      <td>01-06-2022</td>\n",
       "    </tr>\n",
       "    <tr>\n",
       "      <th>6</th>\n",
       "      <td>7</td>\n",
       "      <td>Michael</td>\n",
       "      <td>Computer Science</td>\n",
       "      <td>3.2</td>\n",
       "      <td>01-07-2022</td>\n",
       "    </tr>\n",
       "    <tr>\n",
       "      <th>7</th>\n",
       "      <td>8</td>\n",
       "      <td>Jessica</td>\n",
       "      <td>Engineering</td>\n",
       "      <td>3.8</td>\n",
       "      <td>01-08-2022</td>\n",
       "    </tr>\n",
       "    <tr>\n",
       "      <th>8</th>\n",
       "      <td>9</td>\n",
       "      <td>Jacob</td>\n",
       "      <td>Physics</td>\n",
       "      <td>3.4</td>\n",
       "      <td>01-09-2022</td>\n",
       "    </tr>\n",
       "    <tr>\n",
       "      <th>9</th>\n",
       "      <td>10</td>\n",
       "      <td>Ashley</td>\n",
       "      <td>Physics</td>\n",
       "      <td>3.9</td>\n",
       "      <td>01-10-2022</td>\n",
       "    </tr>\n",
       "  </tbody>\n",
       "</table>\n",
       "</div>"
      ],
      "text/plain": [
       "   student_id      name             major  gpa enrollment_date\n",
       "0           1      John  Computer Science  3.5      01-01-2022\n",
       "1           2      Jane           Physics  3.8      01-02-2022\n",
       "2           3       Bob       Engineering  3.0      01-03-2022\n",
       "3           4  Samantha           Physics  3.9      01-04-2022\n",
       "4           5     James       Engineering  3.7      01-05-2022\n",
       "5           6     Emily  Computer Science  3.6      01-06-2022\n",
       "6           7   Michael  Computer Science  3.2      01-07-2022\n",
       "7           8   Jessica       Engineering  3.8      01-08-2022\n",
       "8           9     Jacob           Physics  3.4      01-09-2022\n",
       "9          10    Ashley           Physics  3.9      01-10-2022"
      ]
     },
     "execution_count": 9,
     "metadata": {},
     "output_type": "execute_result"
    }
   ],
   "source": [
    "command = \"\"\"\n",
    "SELECT* \n",
    "FROM students;\n",
    "\"\"\"\n",
    "cursor.execute(command)\n",
    "tabel = pd.read_sql_query(command,connection)\n",
    "tabel"
   ]
  },
  {
   "cell_type": "markdown",
   "id": "b0292877",
   "metadata": {},
   "source": [
    "### 2"
   ]
  },
  {
   "cell_type": "code",
   "execution_count": 10,
   "id": "b9ba65d2",
   "metadata": {},
   "outputs": [
    {
     "data": {
      "text/html": [
       "<div>\n",
       "<style scoped>\n",
       "    .dataframe tbody tr th:only-of-type {\n",
       "        vertical-align: middle;\n",
       "    }\n",
       "\n",
       "    .dataframe tbody tr th {\n",
       "        vertical-align: top;\n",
       "    }\n",
       "\n",
       "    .dataframe thead th {\n",
       "        text-align: right;\n",
       "    }\n",
       "</style>\n",
       "<table border=\"1\" class=\"dataframe\">\n",
       "  <thead>\n",
       "    <tr style=\"text-align: right;\">\n",
       "      <th></th>\n",
       "      <th>student_id</th>\n",
       "      <th>name</th>\n",
       "      <th>major</th>\n",
       "      <th>gpa</th>\n",
       "      <th>enrollment_date</th>\n",
       "    </tr>\n",
       "  </thead>\n",
       "  <tbody>\n",
       "    <tr>\n",
       "      <th>0</th>\n",
       "      <td>1</td>\n",
       "      <td>John</td>\n",
       "      <td>Computer Science</td>\n",
       "      <td>3.5</td>\n",
       "      <td>01-01-2022</td>\n",
       "    </tr>\n",
       "    <tr>\n",
       "      <th>1</th>\n",
       "      <td>6</td>\n",
       "      <td>Emily</td>\n",
       "      <td>Computer Science</td>\n",
       "      <td>3.6</td>\n",
       "      <td>01-06-2022</td>\n",
       "    </tr>\n",
       "    <tr>\n",
       "      <th>2</th>\n",
       "      <td>7</td>\n",
       "      <td>Michael</td>\n",
       "      <td>Computer Science</td>\n",
       "      <td>3.2</td>\n",
       "      <td>01-07-2022</td>\n",
       "    </tr>\n",
       "  </tbody>\n",
       "</table>\n",
       "</div>"
      ],
      "text/plain": [
       "   student_id     name             major  gpa enrollment_date\n",
       "0           1     John  Computer Science  3.5      01-01-2022\n",
       "1           6    Emily  Computer Science  3.6      01-06-2022\n",
       "2           7  Michael  Computer Science  3.2      01-07-2022"
      ]
     },
     "execution_count": 10,
     "metadata": {},
     "output_type": "execute_result"
    }
   ],
   "source": [
    "command = \"\"\"\n",
    "SELECT* \n",
    "FROM students\n",
    "WHERE major = 'Computer Science';\n",
    "\"\"\"\n",
    "cursor.execute(command)\n",
    "table = pd.read_sql_query(command,connection)\n",
    "table"
   ]
  },
  {
   "cell_type": "markdown",
   "id": "824a1094",
   "metadata": {},
   "source": [
    "### 3"
   ]
  },
  {
   "cell_type": "code",
   "execution_count": 11,
   "id": "c89e680b",
   "metadata": {},
   "outputs": [
    {
     "data": {
      "text/html": [
       "<div>\n",
       "<style scoped>\n",
       "    .dataframe tbody tr th:only-of-type {\n",
       "        vertical-align: middle;\n",
       "    }\n",
       "\n",
       "    .dataframe tbody tr th {\n",
       "        vertical-align: top;\n",
       "    }\n",
       "\n",
       "    .dataframe thead th {\n",
       "        text-align: right;\n",
       "    }\n",
       "</style>\n",
       "<table border=\"1\" class=\"dataframe\">\n",
       "  <thead>\n",
       "    <tr style=\"text-align: right;\">\n",
       "      <th></th>\n",
       "      <th>major</th>\n",
       "    </tr>\n",
       "  </thead>\n",
       "  <tbody>\n",
       "    <tr>\n",
       "      <th>0</th>\n",
       "      <td>Physics</td>\n",
       "    </tr>\n",
       "    <tr>\n",
       "      <th>1</th>\n",
       "      <td>Engineering</td>\n",
       "    </tr>\n",
       "    <tr>\n",
       "      <th>2</th>\n",
       "      <td>Computer Science</td>\n",
       "    </tr>\n",
       "  </tbody>\n",
       "</table>\n",
       "</div>"
      ],
      "text/plain": [
       "              major\n",
       "0           Physics\n",
       "1       Engineering\n",
       "2  Computer Science"
      ]
     },
     "execution_count": 11,
     "metadata": {},
     "output_type": "execute_result"
    }
   ],
   "source": [
    "command = \"\"\"\n",
    "SELECT DISTINCT major\n",
    "FROM students\n",
    "ORDER BY major DESC;\n",
    "\"\"\"\n",
    "cursor.execute(command)\n",
    "table = pd.read_sql_query(command,connection)\n",
    "table"
   ]
  },
  {
   "cell_type": "markdown",
   "id": "b1e4f055",
   "metadata": {},
   "source": [
    "### 4"
   ]
  },
  {
   "cell_type": "code",
   "execution_count": 12,
   "id": "c920f611",
   "metadata": {},
   "outputs": [
    {
     "data": {
      "text/html": [
       "<div>\n",
       "<style scoped>\n",
       "    .dataframe tbody tr th:only-of-type {\n",
       "        vertical-align: middle;\n",
       "    }\n",
       "\n",
       "    .dataframe tbody tr th {\n",
       "        vertical-align: top;\n",
       "    }\n",
       "\n",
       "    .dataframe thead th {\n",
       "        text-align: right;\n",
       "    }\n",
       "</style>\n",
       "<table border=\"1\" class=\"dataframe\">\n",
       "  <thead>\n",
       "    <tr style=\"text-align: right;\">\n",
       "      <th></th>\n",
       "      <th>student_id</th>\n",
       "      <th>name</th>\n",
       "      <th>major</th>\n",
       "      <th>gpa</th>\n",
       "      <th>enrollment_date</th>\n",
       "    </tr>\n",
       "  </thead>\n",
       "  <tbody>\n",
       "    <tr>\n",
       "      <th>0</th>\n",
       "      <td>7</td>\n",
       "      <td>Michael</td>\n",
       "      <td>Computer Science</td>\n",
       "      <td>3.2</td>\n",
       "      <td>01-07-2022</td>\n",
       "    </tr>\n",
       "    <tr>\n",
       "      <th>1</th>\n",
       "      <td>6</td>\n",
       "      <td>Emily</td>\n",
       "      <td>Computer Science</td>\n",
       "      <td>3.6</td>\n",
       "      <td>01-06-2022</td>\n",
       "    </tr>\n",
       "    <tr>\n",
       "      <th>2</th>\n",
       "      <td>5</td>\n",
       "      <td>James</td>\n",
       "      <td>Engineering</td>\n",
       "      <td>3.7</td>\n",
       "      <td>01-05-2022</td>\n",
       "    </tr>\n",
       "    <tr>\n",
       "      <th>3</th>\n",
       "      <td>2</td>\n",
       "      <td>Jane</td>\n",
       "      <td>Physics</td>\n",
       "      <td>3.8</td>\n",
       "      <td>01-02-2022</td>\n",
       "    </tr>\n",
       "    <tr>\n",
       "      <th>4</th>\n",
       "      <td>8</td>\n",
       "      <td>Jessica</td>\n",
       "      <td>Engineering</td>\n",
       "      <td>3.8</td>\n",
       "      <td>01-08-2022</td>\n",
       "    </tr>\n",
       "    <tr>\n",
       "      <th>5</th>\n",
       "      <td>10</td>\n",
       "      <td>Ashley</td>\n",
       "      <td>Physics</td>\n",
       "      <td>3.9</td>\n",
       "      <td>01-10-2022</td>\n",
       "    </tr>\n",
       "  </tbody>\n",
       "</table>\n",
       "</div>"
      ],
      "text/plain": [
       "   student_id     name             major  gpa enrollment_date\n",
       "0           7  Michael  Computer Science  3.2      01-07-2022\n",
       "1           6    Emily  Computer Science  3.6      01-06-2022\n",
       "2           5    James       Engineering  3.7      01-05-2022\n",
       "3           2     Jane           Physics  3.8      01-02-2022\n",
       "4           8  Jessica       Engineering  3.8      01-08-2022\n",
       "5          10   Ashley           Physics  3.9      01-10-2022"
      ]
     },
     "execution_count": 12,
     "metadata": {},
     "output_type": "execute_result"
    }
   ],
   "source": [
    "command = \"\"\"\n",
    "SELECT *\n",
    "FROM students\n",
    "WHERE name LIKE '%e%'\n",
    "ORDER BY gpa ASC;\n",
    "\"\"\"\n",
    "cursor.execute(command)\n",
    "table = pd.read_sql_query(command,connection)\n",
    "table"
   ]
  },
  {
   "cell_type": "markdown",
   "id": "1728e71e",
   "metadata": {},
   "source": [
    "## Q2"
   ]
  },
  {
   "cell_type": "code",
   "execution_count": 13,
   "id": "b690c999",
   "metadata": {},
   "outputs": [
    {
     "data": {
      "text/plain": [
       "<sqlite3.Cursor at 0x135706b1110>"
      ]
     },
     "execution_count": 13,
     "metadata": {},
     "output_type": "execute_result"
    }
   ],
   "source": [
    "command = \"\"\"CREATE TABLE courses AS\n",
    "    SELECT 1 AS course_id, \"Python programming\" AS course_name, 1 AS student_id, \"A\" AS grade UNION\n",
    "    SELECT 2, \"Data Structures\", 2, \"B\" UNION\n",
    "    SELECT 3, \"Database Systems\", 3, \"B\" UNION\n",
    "    SELECT 1, \"Python programming\", 4, \"A\" UNION\n",
    "    SELECT 4, \"Quantum Mechanics\", 5, \"C\" UNION\n",
    "    SELECT 1, \"Python programming\", 6, \"F\" UNION\n",
    "    SELECT 2, \"Data Structures\", 7, \"C\" UNION\n",
    "    SELECT 3, \"Database Systems\", 8, \"A\" UNION\n",
    "    SELECT 4, \"Quantum Mechanics\", 9, \"A\" UNION\n",
    "    SELECT 2, \"Data Structures\", 10, \"F\"; \"\"\"\n",
    "cursor.execute(command)"
   ]
  },
  {
   "cell_type": "code",
   "execution_count": 14,
   "id": "46152e84",
   "metadata": {},
   "outputs": [
    {
     "data": {
      "text/html": [
       "<div>\n",
       "<style scoped>\n",
       "    .dataframe tbody tr th:only-of-type {\n",
       "        vertical-align: middle;\n",
       "    }\n",
       "\n",
       "    .dataframe tbody tr th {\n",
       "        vertical-align: top;\n",
       "    }\n",
       "\n",
       "    .dataframe thead th {\n",
       "        text-align: right;\n",
       "    }\n",
       "</style>\n",
       "<table border=\"1\" class=\"dataframe\">\n",
       "  <thead>\n",
       "    <tr style=\"text-align: right;\">\n",
       "      <th></th>\n",
       "      <th>course_id</th>\n",
       "      <th>course_name</th>\n",
       "      <th>student_id</th>\n",
       "      <th>grade</th>\n",
       "    </tr>\n",
       "  </thead>\n",
       "  <tbody>\n",
       "    <tr>\n",
       "      <th>0</th>\n",
       "      <td>1</td>\n",
       "      <td>Python programming</td>\n",
       "      <td>1</td>\n",
       "      <td>A</td>\n",
       "    </tr>\n",
       "    <tr>\n",
       "      <th>1</th>\n",
       "      <td>1</td>\n",
       "      <td>Python programming</td>\n",
       "      <td>4</td>\n",
       "      <td>A</td>\n",
       "    </tr>\n",
       "    <tr>\n",
       "      <th>2</th>\n",
       "      <td>1</td>\n",
       "      <td>Python programming</td>\n",
       "      <td>6</td>\n",
       "      <td>F</td>\n",
       "    </tr>\n",
       "    <tr>\n",
       "      <th>3</th>\n",
       "      <td>2</td>\n",
       "      <td>Data Structures</td>\n",
       "      <td>2</td>\n",
       "      <td>B</td>\n",
       "    </tr>\n",
       "    <tr>\n",
       "      <th>4</th>\n",
       "      <td>2</td>\n",
       "      <td>Data Structures</td>\n",
       "      <td>7</td>\n",
       "      <td>C</td>\n",
       "    </tr>\n",
       "    <tr>\n",
       "      <th>5</th>\n",
       "      <td>2</td>\n",
       "      <td>Data Structures</td>\n",
       "      <td>10</td>\n",
       "      <td>F</td>\n",
       "    </tr>\n",
       "    <tr>\n",
       "      <th>6</th>\n",
       "      <td>3</td>\n",
       "      <td>Database Systems</td>\n",
       "      <td>3</td>\n",
       "      <td>B</td>\n",
       "    </tr>\n",
       "    <tr>\n",
       "      <th>7</th>\n",
       "      <td>3</td>\n",
       "      <td>Database Systems</td>\n",
       "      <td>8</td>\n",
       "      <td>A</td>\n",
       "    </tr>\n",
       "    <tr>\n",
       "      <th>8</th>\n",
       "      <td>4</td>\n",
       "      <td>Quantum Mechanics</td>\n",
       "      <td>5</td>\n",
       "      <td>C</td>\n",
       "    </tr>\n",
       "    <tr>\n",
       "      <th>9</th>\n",
       "      <td>4</td>\n",
       "      <td>Quantum Mechanics</td>\n",
       "      <td>9</td>\n",
       "      <td>A</td>\n",
       "    </tr>\n",
       "  </tbody>\n",
       "</table>\n",
       "</div>"
      ],
      "text/plain": [
       "   course_id         course_name  student_id grade\n",
       "0          1  Python programming           1     A\n",
       "1          1  Python programming           4     A\n",
       "2          1  Python programming           6     F\n",
       "3          2     Data Structures           2     B\n",
       "4          2     Data Structures           7     C\n",
       "5          2     Data Structures          10     F\n",
       "6          3    Database Systems           3     B\n",
       "7          3    Database Systems           8     A\n",
       "8          4   Quantum Mechanics           5     C\n",
       "9          4   Quantum Mechanics           9     A"
      ]
     },
     "execution_count": 14,
     "metadata": {},
     "output_type": "execute_result"
    }
   ],
   "source": [
    "command = \"\"\"\n",
    "SELECT * \n",
    "FROM courses;\n",
    "\"\"\"\n",
    "cursor.execute(command)\n",
    "table = pd.read_sql_query(command,connection)\n",
    "table"
   ]
  },
  {
   "cell_type": "markdown",
   "id": "1f269814",
   "metadata": {},
   "source": [
    "### 1"
   ]
  },
  {
   "cell_type": "code",
   "execution_count": 15,
   "id": "e94af609",
   "metadata": {},
   "outputs": [
    {
     "data": {
      "text/html": [
       "<div>\n",
       "<style scoped>\n",
       "    .dataframe tbody tr th:only-of-type {\n",
       "        vertical-align: middle;\n",
       "    }\n",
       "\n",
       "    .dataframe tbody tr th {\n",
       "        vertical-align: top;\n",
       "    }\n",
       "\n",
       "    .dataframe thead th {\n",
       "        text-align: right;\n",
       "    }\n",
       "</style>\n",
       "<table border=\"1\" class=\"dataframe\">\n",
       "  <thead>\n",
       "    <tr style=\"text-align: right;\">\n",
       "      <th></th>\n",
       "      <th>count</th>\n",
       "    </tr>\n",
       "  </thead>\n",
       "  <tbody>\n",
       "    <tr>\n",
       "      <th>0</th>\n",
       "      <td>4</td>\n",
       "    </tr>\n",
       "  </tbody>\n",
       "</table>\n",
       "</div>"
      ],
      "text/plain": [
       "   count\n",
       "0      4"
      ]
     },
     "execution_count": 15,
     "metadata": {},
     "output_type": "execute_result"
    }
   ],
   "source": [
    "command = \"\"\"\n",
    "SELECT COUNT(DISTINCT course_name) as count\n",
    "FROM courses;\n",
    "\"\"\"\n",
    "cursor.execute(command)\n",
    "table = pd.read_sql_query(command,connection)\n",
    "table"
   ]
  },
  {
   "cell_type": "markdown",
   "id": "5189bdda",
   "metadata": {},
   "source": [
    "### 2"
   ]
  },
  {
   "cell_type": "code",
   "execution_count": 16,
   "id": "02887704",
   "metadata": {},
   "outputs": [
    {
     "data": {
      "text/html": [
       "<div>\n",
       "<style scoped>\n",
       "    .dataframe tbody tr th:only-of-type {\n",
       "        vertical-align: middle;\n",
       "    }\n",
       "\n",
       "    .dataframe tbody tr th {\n",
       "        vertical-align: top;\n",
       "    }\n",
       "\n",
       "    .dataframe thead th {\n",
       "        text-align: right;\n",
       "    }\n",
       "</style>\n",
       "<table border=\"1\" class=\"dataframe\">\n",
       "  <thead>\n",
       "    <tr style=\"text-align: right;\">\n",
       "      <th></th>\n",
       "      <th>count</th>\n",
       "    </tr>\n",
       "  </thead>\n",
       "  <tbody>\n",
       "    <tr>\n",
       "      <th>0</th>\n",
       "      <td>2</td>\n",
       "    </tr>\n",
       "  </tbody>\n",
       "</table>\n",
       "</div>"
      ],
      "text/plain": [
       "   count\n",
       "0      2"
      ]
     },
     "execution_count": 16,
     "metadata": {},
     "output_type": "execute_result"
    }
   ],
   "source": [
    "command = \"\"\"SELECT \n",
    "COUNT(*) AS count\n",
    "FROM students\n",
    "INNER JOIN courses\n",
    "ON students.student_id = courses.student_id\n",
    "WHERE students.major = 'Computer Science' AND courses.course_name = 'Python programming';\n",
    "\"\"\"\n",
    "cursor.execute(command)\n",
    "table = pd.read_sql_query(command,connection)\n",
    "table"
   ]
  },
  {
   "cell_type": "markdown",
   "id": "73bd27fe",
   "metadata": {},
   "source": [
    "### 3"
   ]
  },
  {
   "cell_type": "code",
   "execution_count": 17,
   "id": "82763c24",
   "metadata": {},
   "outputs": [
    {
     "data": {
      "text/html": [
       "<div>\n",
       "<style scoped>\n",
       "    .dataframe tbody tr th:only-of-type {\n",
       "        vertical-align: middle;\n",
       "    }\n",
       "\n",
       "    .dataframe tbody tr th {\n",
       "        vertical-align: top;\n",
       "    }\n",
       "\n",
       "    .dataframe thead th {\n",
       "        text-align: right;\n",
       "    }\n",
       "</style>\n",
       "<table border=\"1\" class=\"dataframe\">\n",
       "  <thead>\n",
       "    <tr style=\"text-align: right;\">\n",
       "      <th></th>\n",
       "      <th>name</th>\n",
       "      <th>major</th>\n",
       "      <th>gpa</th>\n",
       "      <th>course_name</th>\n",
       "      <th>grade</th>\n",
       "    </tr>\n",
       "  </thead>\n",
       "  <tbody>\n",
       "    <tr>\n",
       "      <th>0</th>\n",
       "      <td>John</td>\n",
       "      <td>Computer Science</td>\n",
       "      <td>3.5</td>\n",
       "      <td>Python programming</td>\n",
       "      <td>A</td>\n",
       "    </tr>\n",
       "    <tr>\n",
       "      <th>1</th>\n",
       "      <td>Samantha</td>\n",
       "      <td>Physics</td>\n",
       "      <td>3.9</td>\n",
       "      <td>Python programming</td>\n",
       "      <td>A</td>\n",
       "    </tr>\n",
       "    <tr>\n",
       "      <th>2</th>\n",
       "      <td>Jane</td>\n",
       "      <td>Physics</td>\n",
       "      <td>3.8</td>\n",
       "      <td>Data Structures</td>\n",
       "      <td>B</td>\n",
       "    </tr>\n",
       "    <tr>\n",
       "      <th>3</th>\n",
       "      <td>Bob</td>\n",
       "      <td>Engineering</td>\n",
       "      <td>3.0</td>\n",
       "      <td>Database Systems</td>\n",
       "      <td>B</td>\n",
       "    </tr>\n",
       "    <tr>\n",
       "      <th>4</th>\n",
       "      <td>Jessica</td>\n",
       "      <td>Engineering</td>\n",
       "      <td>3.8</td>\n",
       "      <td>Database Systems</td>\n",
       "      <td>A</td>\n",
       "    </tr>\n",
       "    <tr>\n",
       "      <th>5</th>\n",
       "      <td>Jacob</td>\n",
       "      <td>Physics</td>\n",
       "      <td>3.4</td>\n",
       "      <td>Quantum Mechanics</td>\n",
       "      <td>A</td>\n",
       "    </tr>\n",
       "  </tbody>\n",
       "</table>\n",
       "</div>"
      ],
      "text/plain": [
       "       name             major  gpa         course_name grade\n",
       "0      John  Computer Science  3.5  Python programming     A\n",
       "1  Samantha           Physics  3.9  Python programming     A\n",
       "2      Jane           Physics  3.8     Data Structures     B\n",
       "3       Bob       Engineering  3.0    Database Systems     B\n",
       "4   Jessica       Engineering  3.8    Database Systems     A\n",
       "5     Jacob           Physics  3.4   Quantum Mechanics     A"
      ]
     },
     "execution_count": 17,
     "metadata": {},
     "output_type": "execute_result"
    }
   ],
   "source": [
    "command = \"\"\"SELECT \n",
    "students.name, students.major, students.gpa, courses.course_name, courses.grade\n",
    "FROM students\n",
    "INNER JOIN courses ON students.student_id = courses.student_id\n",
    "WHERE courses.grade < 'C';\n",
    "\"\"\"\n",
    "cursor.execute(command)\n",
    "table = pd.read_sql_query(command,connection)\n",
    "table"
   ]
  },
  {
   "cell_type": "markdown",
   "id": "07f756de",
   "metadata": {},
   "source": [
    "## Q3"
   ]
  },
  {
   "cell_type": "markdown",
   "id": "4dad9f70",
   "metadata": {},
   "source": [
    "### 1"
   ]
  },
  {
   "cell_type": "code",
   "execution_count": 18,
   "id": "e48188a6",
   "metadata": {},
   "outputs": [
    {
     "data": {
      "text/html": [
       "<div>\n",
       "<style scoped>\n",
       "    .dataframe tbody tr th:only-of-type {\n",
       "        vertical-align: middle;\n",
       "    }\n",
       "\n",
       "    .dataframe tbody tr th {\n",
       "        vertical-align: top;\n",
       "    }\n",
       "\n",
       "    .dataframe thead th {\n",
       "        text-align: right;\n",
       "    }\n",
       "</style>\n",
       "<table border=\"1\" class=\"dataframe\">\n",
       "  <thead>\n",
       "    <tr style=\"text-align: right;\">\n",
       "      <th></th>\n",
       "      <th>cgpa_average</th>\n",
       "    </tr>\n",
       "  </thead>\n",
       "  <tbody>\n",
       "    <tr>\n",
       "      <th>0</th>\n",
       "      <td>3.58</td>\n",
       "    </tr>\n",
       "  </tbody>\n",
       "</table>\n",
       "</div>"
      ],
      "text/plain": [
       "   cgpa_average\n",
       "0          3.58"
      ]
     },
     "execution_count": 18,
     "metadata": {},
     "output_type": "execute_result"
    }
   ],
   "source": [
    "command = \"\"\"\n",
    "SELECT \n",
    "AVG(gpa) AS cgpa_average\n",
    "FROM students;\n",
    "\"\"\"\n",
    "cursor.execute(command)\n",
    "table = pd.read_sql_query(command,connection)\n",
    "table"
   ]
  },
  {
   "cell_type": "markdown",
   "id": "792168ad",
   "metadata": {},
   "source": [
    "### 2"
   ]
  },
  {
   "cell_type": "code",
   "execution_count": 19,
   "id": "00be4b57",
   "metadata": {},
   "outputs": [
    {
     "data": {
      "text/html": [
       "<div>\n",
       "<style scoped>\n",
       "    .dataframe tbody tr th:only-of-type {\n",
       "        vertical-align: middle;\n",
       "    }\n",
       "\n",
       "    .dataframe tbody tr th {\n",
       "        vertical-align: top;\n",
       "    }\n",
       "\n",
       "    .dataframe thead th {\n",
       "        text-align: right;\n",
       "    }\n",
       "</style>\n",
       "<table border=\"1\" class=\"dataframe\">\n",
       "  <thead>\n",
       "    <tr style=\"text-align: right;\">\n",
       "      <th></th>\n",
       "      <th>student_id</th>\n",
       "      <th>major</th>\n",
       "      <th>gpa</th>\n",
       "    </tr>\n",
       "  </thead>\n",
       "  <tbody>\n",
       "    <tr>\n",
       "      <th>0</th>\n",
       "      <td>4</td>\n",
       "      <td>Physics</td>\n",
       "      <td>3.9</td>\n",
       "    </tr>\n",
       "    <tr>\n",
       "      <th>1</th>\n",
       "      <td>10</td>\n",
       "      <td>Physics</td>\n",
       "      <td>3.9</td>\n",
       "    </tr>\n",
       "  </tbody>\n",
       "</table>\n",
       "</div>"
      ],
      "text/plain": [
       "   student_id    major  gpa\n",
       "0           4  Physics  3.9\n",
       "1          10  Physics  3.9"
      ]
     },
     "execution_count": 19,
     "metadata": {},
     "output_type": "execute_result"
    }
   ],
   "source": [
    "command = \"\"\"\n",
    "SELECT \n",
    "student_id, major, gpa\n",
    "FROM students\n",
    "WHERE gpa = (SELECT MAX(gpa) FROM students);\n",
    "\"\"\"\n",
    "cursor.execute(command)\n",
    "table = pd.read_sql_query(command,connection)\n",
    "table"
   ]
  },
  {
   "cell_type": "markdown",
   "id": "d6710e25",
   "metadata": {},
   "source": [
    "### 3"
   ]
  },
  {
   "cell_type": "code",
   "execution_count": 20,
   "id": "a069bbed",
   "metadata": {},
   "outputs": [
    {
     "data": {
      "text/html": [
       "<div>\n",
       "<style scoped>\n",
       "    .dataframe tbody tr th:only-of-type {\n",
       "        vertical-align: middle;\n",
       "    }\n",
       "\n",
       "    .dataframe tbody tr th {\n",
       "        vertical-align: top;\n",
       "    }\n",
       "\n",
       "    .dataframe thead th {\n",
       "        text-align: right;\n",
       "    }\n",
       "</style>\n",
       "<table border=\"1\" class=\"dataframe\">\n",
       "  <thead>\n",
       "    <tr style=\"text-align: right;\">\n",
       "      <th></th>\n",
       "      <th>student_id</th>\n",
       "      <th>major</th>\n",
       "      <th>gpa</th>\n",
       "    </tr>\n",
       "  </thead>\n",
       "  <tbody>\n",
       "    <tr>\n",
       "      <th>0</th>\n",
       "      <td>3</td>\n",
       "      <td>Engineering</td>\n",
       "      <td>3.0</td>\n",
       "    </tr>\n",
       "  </tbody>\n",
       "</table>\n",
       "</div>"
      ],
      "text/plain": [
       "   student_id        major  gpa\n",
       "0           3  Engineering  3.0"
      ]
     },
     "execution_count": 20,
     "metadata": {},
     "output_type": "execute_result"
    }
   ],
   "source": [
    "command = \"\"\"\n",
    "SELECT \n",
    "student_id, major, gpa\n",
    "FROM students\n",
    "WHERE gpa = (SELECT MIN(gpa) FROM students);\n",
    "\"\"\"\n",
    "cursor.execute(command)\n",
    "table = pd.read_sql_query(command,connection)\n",
    "table"
   ]
  },
  {
   "cell_type": "markdown",
   "id": "2d2f2a4d",
   "metadata": {},
   "source": [
    "### 4"
   ]
  },
  {
   "cell_type": "code",
   "execution_count": 21,
   "id": "b3e7e7d0",
   "metadata": {},
   "outputs": [
    {
     "data": {
      "text/html": [
       "<div>\n",
       "<style scoped>\n",
       "    .dataframe tbody tr th:only-of-type {\n",
       "        vertical-align: middle;\n",
       "    }\n",
       "\n",
       "    .dataframe tbody tr th {\n",
       "        vertical-align: top;\n",
       "    }\n",
       "\n",
       "    .dataframe thead th {\n",
       "        text-align: right;\n",
       "    }\n",
       "</style>\n",
       "<table border=\"1\" class=\"dataframe\">\n",
       "  <thead>\n",
       "    <tr style=\"text-align: right;\">\n",
       "      <th></th>\n",
       "      <th>student_id</th>\n",
       "      <th>major</th>\n",
       "      <th>gpa</th>\n",
       "    </tr>\n",
       "  </thead>\n",
       "  <tbody>\n",
       "    <tr>\n",
       "      <th>0</th>\n",
       "      <td>2</td>\n",
       "      <td>Physics</td>\n",
       "      <td>3.8</td>\n",
       "    </tr>\n",
       "    <tr>\n",
       "      <th>1</th>\n",
       "      <td>4</td>\n",
       "      <td>Physics</td>\n",
       "      <td>3.9</td>\n",
       "    </tr>\n",
       "    <tr>\n",
       "      <th>2</th>\n",
       "      <td>5</td>\n",
       "      <td>Engineering</td>\n",
       "      <td>3.7</td>\n",
       "    </tr>\n",
       "    <tr>\n",
       "      <th>3</th>\n",
       "      <td>8</td>\n",
       "      <td>Engineering</td>\n",
       "      <td>3.8</td>\n",
       "    </tr>\n",
       "    <tr>\n",
       "      <th>4</th>\n",
       "      <td>10</td>\n",
       "      <td>Physics</td>\n",
       "      <td>3.9</td>\n",
       "    </tr>\n",
       "  </tbody>\n",
       "</table>\n",
       "</div>"
      ],
      "text/plain": [
       "   student_id        major  gpa\n",
       "0           2      Physics  3.8\n",
       "1           4      Physics  3.9\n",
       "2           5  Engineering  3.7\n",
       "3           8  Engineering  3.8\n",
       "4          10      Physics  3.9"
      ]
     },
     "execution_count": 21,
     "metadata": {},
     "output_type": "execute_result"
    }
   ],
   "source": [
    "command = \"\"\"\n",
    "SELECT student_id, major, gpa\n",
    "FROM students\n",
    "WHERE (major IN ('Physics','Engineering')) AND gpa > 3.6;\n",
    "\"\"\"\n",
    "cursor.execute(command)\n",
    "table = pd.read_sql_query(command,connection)\n",
    "table"
   ]
  },
  {
   "cell_type": "markdown",
   "id": "d8f57974",
   "metadata": {},
   "source": [
    "### 5"
   ]
  },
  {
   "cell_type": "code",
   "execution_count": 22,
   "id": "2493d8d7",
   "metadata": {},
   "outputs": [
    {
     "data": {
      "text/html": [
       "<div>\n",
       "<style scoped>\n",
       "    .dataframe tbody tr th:only-of-type {\n",
       "        vertical-align: middle;\n",
       "    }\n",
       "\n",
       "    .dataframe tbody tr th {\n",
       "        vertical-align: top;\n",
       "    }\n",
       "\n",
       "    .dataframe thead th {\n",
       "        text-align: right;\n",
       "    }\n",
       "</style>\n",
       "<table border=\"1\" class=\"dataframe\">\n",
       "  <thead>\n",
       "    <tr style=\"text-align: right;\">\n",
       "      <th></th>\n",
       "      <th>major</th>\n",
       "      <th>gpa_avg</th>\n",
       "    </tr>\n",
       "  </thead>\n",
       "  <tbody>\n",
       "    <tr>\n",
       "      <th>0</th>\n",
       "      <td>Computer Science</td>\n",
       "      <td>3.433333</td>\n",
       "    </tr>\n",
       "    <tr>\n",
       "      <th>1</th>\n",
       "      <td>Engineering</td>\n",
       "      <td>3.500000</td>\n",
       "    </tr>\n",
       "    <tr>\n",
       "      <th>2</th>\n",
       "      <td>Physics</td>\n",
       "      <td>3.750000</td>\n",
       "    </tr>\n",
       "  </tbody>\n",
       "</table>\n",
       "</div>"
      ],
      "text/plain": [
       "              major   gpa_avg\n",
       "0  Computer Science  3.433333\n",
       "1       Engineering  3.500000\n",
       "2           Physics  3.750000"
      ]
     },
     "execution_count": 22,
     "metadata": {},
     "output_type": "execute_result"
    }
   ],
   "source": [
    "command = \"\"\"\n",
    "SELECT major, AVG(gpa) as gpa_avg\n",
    "FROM students\n",
    "GROUP BY major;\"\"\"\n",
    "cursor.execute(command)\n",
    "table = pd.read_sql_query(command,connection)\n",
    "table"
   ]
  },
  {
   "cell_type": "markdown",
   "id": "501380bd",
   "metadata": {},
   "source": [
    "### 6"
   ]
  },
  {
   "cell_type": "code",
   "execution_count": 23,
   "id": "25780d56",
   "metadata": {},
   "outputs": [
    {
     "data": {
      "text/html": [
       "<div>\n",
       "<style scoped>\n",
       "    .dataframe tbody tr th:only-of-type {\n",
       "        vertical-align: middle;\n",
       "    }\n",
       "\n",
       "    .dataframe tbody tr th {\n",
       "        vertical-align: top;\n",
       "    }\n",
       "\n",
       "    .dataframe thead th {\n",
       "        text-align: right;\n",
       "    }\n",
       "</style>\n",
       "<table border=\"1\" class=\"dataframe\">\n",
       "  <thead>\n",
       "    <tr style=\"text-align: right;\">\n",
       "      <th></th>\n",
       "      <th>major</th>\n",
       "      <th>student_id</th>\n",
       "      <th>gpa</th>\n",
       "    </tr>\n",
       "  </thead>\n",
       "  <tbody>\n",
       "    <tr>\n",
       "      <th>0</th>\n",
       "      <td>Computer Science</td>\n",
       "      <td>6</td>\n",
       "      <td>3.6</td>\n",
       "    </tr>\n",
       "    <tr>\n",
       "      <th>1</th>\n",
       "      <td>Computer Science</td>\n",
       "      <td>1</td>\n",
       "      <td>3.5</td>\n",
       "    </tr>\n",
       "    <tr>\n",
       "      <th>2</th>\n",
       "      <td>Engineering</td>\n",
       "      <td>8</td>\n",
       "      <td>3.8</td>\n",
       "    </tr>\n",
       "    <tr>\n",
       "      <th>3</th>\n",
       "      <td>Engineering</td>\n",
       "      <td>5</td>\n",
       "      <td>3.7</td>\n",
       "    </tr>\n",
       "    <tr>\n",
       "      <th>4</th>\n",
       "      <td>Physics</td>\n",
       "      <td>4</td>\n",
       "      <td>3.9</td>\n",
       "    </tr>\n",
       "    <tr>\n",
       "      <th>5</th>\n",
       "      <td>Physics</td>\n",
       "      <td>10</td>\n",
       "      <td>3.9</td>\n",
       "    </tr>\n",
       "  </tbody>\n",
       "</table>\n",
       "</div>"
      ],
      "text/plain": [
       "              major  student_id  gpa\n",
       "0  Computer Science           6  3.6\n",
       "1  Computer Science           1  3.5\n",
       "2       Engineering           8  3.8\n",
       "3       Engineering           5  3.7\n",
       "4           Physics           4  3.9\n",
       "5           Physics          10  3.9"
      ]
     },
     "execution_count": 23,
     "metadata": {},
     "output_type": "execute_result"
    }
   ],
   "source": [
    "command = \"\"\" \n",
    "WITH ABC AS(\n",
    "  SELECT major, student_id, gpa,\n",
    "         ROW_NUMBER() OVER (PARTITION BY major ORDER BY gpa DESC) AS row_number\n",
    "  FROM students\n",
    ") \n",
    "SELECT major, student_id, gpa\n",
    "FROM ABC\n",
    "WHERE row_number <= 2\n",
    "ORDER BY major, gpa DESC;\n",
    "\"\"\"\n",
    "cursor.execute(command)\n",
    "table = pd.read_sql_query(command,connection)\n",
    "table"
   ]
  },
  {
   "cell_type": "code",
   "execution_count": null,
   "id": "5d76d53a",
   "metadata": {},
   "outputs": [],
   "source": []
  }
 ],
 "metadata": {
  "kernelspec": {
   "display_name": "Python 3 (ipykernel)",
   "language": "python",
   "name": "python3"
  },
  "language_info": {
   "codemirror_mode": {
    "name": "ipython",
    "version": 3
   },
   "file_extension": ".py",
   "mimetype": "text/x-python",
   "name": "python",
   "nbconvert_exporter": "python",
   "pygments_lexer": "ipython3",
   "version": "3.9.13"
  }
 },
 "nbformat": 4,
 "nbformat_minor": 5
}
